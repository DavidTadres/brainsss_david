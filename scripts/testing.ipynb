{
 "cells": [
  {
   "cell_type": "code",
   "execution_count": 1,
   "id": "78c5b9f0",
   "metadata": {},
   "outputs": [],
   "source": [
    "%matplotlib notebook"
   ]
  },
  {
   "cell_type": "code",
   "execution_count": 2,
   "id": "d9f01e60",
   "metadata": {},
   "outputs": [],
   "source": [
    "from pathlib import Path\n",
    "import os"
   ]
  },
  {
   "cell_type": "code",
   "execution_count": 3,
   "id": "2d4bfb34",
   "metadata": {},
   "outputs": [],
   "source": [
    "try: \n",
    "    root = Path('/oak/stanford/groups/trc/data') # on sherlock\n",
    "    for i in root.iterdir(): # Throws an error if folder doesn't exist\n",
    "        print(i)\n",
    "except FileNotFoundError:\n",
    "    root = \"/Volumes/groups/trc/data\" # on my computer"
   ]
  },
  {
   "cell_type": "code",
   "execution_count": 4,
   "id": "7e4694d3",
   "metadata": {},
   "outputs": [
    {
     "name": "stdout",
     "output_type": "stream",
     "text": [
      "/Volumes/groups/trc/data/David/Bruker/imports\n"
     ]
    }
   ],
   "source": [
    "\"\"\"json:\n",
    "    \"imports_path\": \"/oak/stanford/groups/trc/data/David/Bruker/imports\",\n",
    "    \"dataset_path\": \"/oak/stanford/groups/trc/data/David/Bruker/preprocessed\",\n",
    "imports_path = settings['imports_path']\n",
    "dataset_path = settings['dataset_path']\"\"\"\n",
    "\n",
    "imports_path = os.path.join(root, \"David/Bruker/imports\")\n",
    "dataset_path = os.path.join(root, \"David/Bruker/preprocessed\")\n",
    "print(imports_path)"
   ]
  },
  {
   "cell_type": "code",
   "execution_count": 5,
   "id": "189b8a69",
   "metadata": {},
   "outputs": [
    {
     "name": "stdout",
     "output_type": "stream",
     "text": [
      "/Volumes/groups/trc/data/David/Bruker/imports/20231201\n"
     ]
    }
   ],
   "source": [
    "# preprocess.py\n",
    "\"\"\"dir_to_build = args['BUILDFLIES']\"\"\"\n",
    "dir_to_build = \"20231201\"\n",
    "flagged_dir = os.path.join(imports_path, dir_to_build)\n",
    "#args = {'logfile': logfile, 'flagged_dir': flagged_dir, 'dataset_path': dataset_path, 'fly_dirs': fly_dirs, 'user': user}\n",
    "#script = 'fly_builder.py'\n",
    "print(flagged_dir)"
   ]
  },
  {
   "cell_type": "code",
   "execution_count": 6,
   "id": "6fd25eaf",
   "metadata": {},
   "outputs": [
    {
     "name": "stdout",
     "output_type": "stream",
     "text": [
      "['fly2']\n"
     ]
    }
   ],
   "source": [
    "# flybuilder.py\n",
    "# def main\n",
    "\"\"\"flagged_dir = args['flagged_dir']\n",
    "target_path = args['dataset_path']\"\"\"\n",
    "likely_fly_folders = os.listdir(flagged_dir)\n",
    "likely_fly_folders = [i for i in likely_fly_folders if 'fly' in i]\n",
    "print(likely_fly_folders)"
   ]
  },
  {
   "cell_type": "code",
   "execution_count": 7,
   "id": "36c09738",
   "metadata": {},
   "outputs": [
    {
     "name": "stdout",
     "output_type": "stream",
     "text": [
      "/Volumes/groups/trc/data/David/Bruker/imports/20231201/fly2\n"
     ]
    }
   ],
   "source": [
    "for likely_fly_folder in likely_fly_folders:\n",
    "    if 'fly' in likely_fly_folder:\n",
    "        # Define source fly directory\n",
    "        source_fly = os.path.join(flagged_dir, likely_fly_folder)\n",
    "        print(source_fly)\n"
   ]
  },
  {
   "cell_type": "code",
   "execution_count": 8,
   "id": "435781a7",
   "metadata": {},
   "outputs": [
    {
     "name": "stdout",
     "output_type": "stream",
     "text": [
      "fly_001\n"
     ]
    }
   ],
   "source": [
    "new_fly_number = '001'\n",
    "\n",
    "# Define destination fly directory\n",
    "#fly_time = get_fly_time(source_fly)\n",
    "new_fly_folder = 'fly_' + str(new_fly_number)\n",
    "print(new_fly_folder)"
   ]
  },
  {
   "cell_type": "code",
   "execution_count": 9,
   "id": "4e9ecc50",
   "metadata": {},
   "outputs": [
    {
     "name": "stdout",
     "output_type": "stream",
     "text": [
      "/Volumes/groups/trc/data/David/Bruker/preprocessed/fly_001\n"
     ]
    }
   ],
   "source": [
    "#target_path = args['dataset_path']\n",
    "target_path = dataset_path\n",
    "destination_fly = os.path.join(target_path, new_fly_folder)\n",
    "print(destination_fly)\n",
    "#os.mkdir(destination_fly)\n",
    "#printlog(F'Created fly directory:{destination_fly:.>{width-22}}')\n",
    "#copy_fly(source_fly, destination_fly, printlog, user)"
   ]
  },
  {
   "cell_type": "code",
   "execution_count": 27,
   "id": "96b28f08-bf41-40e2-9e8f-88d4b3fd530a",
   "metadata": {},
   "outputs": [],
   "source": [
    "def copy_file(*args):\n",
    "    pass\n",
    "def printlog(*args):\n",
    "    pass\n",
    "def create_imaging_json(*args):\n",
    "    pass"
   ]
  },
  {
   "cell_type": "code",
   "execution_count": 28,
   "id": "243c2aca-a03e-4fd3-8433-a2013cf0143b",
   "metadata": {},
   "outputs": [
    {
     "name": "stdout",
     "output_type": "stream",
     "text": [
      "/Volumes/groups/trc/data/David/Bruker/imports/20231201/fly2/anat\n",
      "/Volumes/groups/trc/data/David/Bruker/imports/20231201/fly2/anat/TSeries-12172018-1322-004\n",
      "/Volumes/groups/trc/data/David/Bruker/imports/20231201/fly2/anat/TSeries-12172018-1322-004/References\n",
      "/Volumes/groups/trc/data/David/Bruker/imports/20231201/fly2/anat/TSeries-12172018-1322-004/TSeries-12172018-1322-004_channel_1_s0.nii\n",
      "/Volumes/groups/trc/data/David/Bruker/imports/20231201/fly2/anat/TSeries-12172018-1322-004/TSeries-12172018-1322-004.xml\n",
      "/Volumes/groups/trc/data/David/Bruker/imports/20231201/fly2/anat/TSeries-12172018-1322-004/TSeries-12172018-1322-004_channel_2_s0.nii\n",
      "/Volumes/groups/trc/data/David/Bruker/imports/20231201/fly2/func1\n",
      "/Volumes/groups/trc/data/David/Bruker/imports/20231201/fly2/func1/TSeries-12172018-1322-003\n",
      "/Volumes/groups/trc/data/David/Bruker/imports/20231201/fly2/func1/TSeries-12172018-1322-003/ch2_concat.nii\n",
      "/Volumes/groups/trc/data/David/Bruker/imports/20231201/fly2/func1/TSeries-12172018-1322-003/TSeries-12172018-1322-003_channel_2_s0.nii\n",
      "/Volumes/groups/trc/data/David/Bruker/imports/20231201/fly2/func1/TSeries-12172018-1322-003/References\n",
      "/Volumes/groups/trc/data/David/Bruker/imports/20231201/fly2/func1/TSeries-12172018-1322-003/TSeries-12172018-1322-003_channel_2_s3000.nii\n",
      "/Volumes/groups/trc/data/David/Bruker/imports/20231201/fly2/func1/TSeries-12172018-1322-003/TSeries-12172018-1322-003_channel_1_s3000.nii\n",
      "/Volumes/groups/trc/data/David/Bruker/imports/20231201/fly2/func1/TSeries-12172018-1322-003/TSeries-12172018-1322-003_channel_1_s1500.nii\n",
      "/Volumes/groups/trc/data/David/Bruker/imports/20231201/fly2/func1/TSeries-12172018-1322-003/TSeries-12172018-1322-003_channel_1_s2000.nii\n",
      "/Volumes/groups/trc/data/David/Bruker/imports/20231201/fly2/func1/TSeries-12172018-1322-003/TSeries-12172018-1322-003.xml\n",
      "/Volumes/groups/trc/data/David/Bruker/imports/20231201/fly2/func1/TSeries-12172018-1322-003/TSeries-12172018-1322-003_Cycle00001_VoltageOutput_001.xml\n",
      "/Volumes/groups/trc/data/David/Bruker/imports/20231201/fly2/func1/TSeries-12172018-1322-003/ch1_concat.nii\n",
      "/Volumes/groups/trc/data/David/Bruker/imports/20231201/fly2/func1/TSeries-12172018-1322-003/TSeries-12172018-1322-003_channel_2_s2000.nii\n",
      "/Volumes/groups/trc/data/David/Bruker/imports/20231201/fly2/func1/TSeries-12172018-1322-003/TSeries-12172018-1322-003_channel_1_s0.nii\n",
      "/Volumes/groups/trc/data/David/Bruker/imports/20231201/fly2/func1/TSeries-12172018-1322-003/TSeries-12172018-1322-003_channel_1_s500.nii\n",
      "/Volumes/groups/trc/data/David/Bruker/imports/20231201/fly2/func1/TSeries-12172018-1322-003/TSeries-12172018-1322-003_channel_1_s1000.nii\n",
      "/Volumes/groups/trc/data/David/Bruker/imports/20231201/fly2/func1/TSeries-12172018-1322-003/TSeries-12172018-1322-003_channel_2_s1500.nii\n",
      "/Volumes/groups/trc/data/David/Bruker/imports/20231201/fly2/func1/TSeries-12172018-1322-003/TSeries-12172018-1322-003_channel_1_s2500.nii\n",
      "/Volumes/groups/trc/data/David/Bruker/imports/20231201/fly2/func1/TSeries-12172018-1322-003/TSeries-12172018-1322-003_channel_2_s2500.nii\n",
      "/Volumes/groups/trc/data/David/Bruker/imports/20231201/fly2/func1/TSeries-12172018-1322-003/TSeries-12172018-1322-003_channel_2_s500.nii\n",
      "/Volumes/groups/trc/data/David/Bruker/imports/20231201/fly2/func1/TSeries-12172018-1322-003/TSeries-12172018-1322-003_channel_2_s1000.nii\n"
     ]
    }
   ],
   "source": [
    "destination = destination_fly\n",
    "folder_type='func'\n",
    "source = source_fly\n",
    "def show_path(source):\n",
    "    \n",
    "    for item in os.listdir(source):        \n",
    "        # Create full path to item\n",
    "        source_item = os.path.join(source, item)\n",
    "        print(source_item)\n",
    "        if os.path.isdir(source_item):\n",
    "            show_path(source_item)\n",
    "        else:\n",
    "            ### Change file names and filter various files\n",
    "            # Don't copy these files\n",
    "            if 'SingleImage' in item:\n",
    "                continue\n",
    "            # Rename functional file to functional_channel_x.nii\n",
    "            if 'concat.nii' in item and folder_type == 'func':\n",
    "                item = 'functional_channel_' + item.split('ch')[1].split('_')[0] + '.nii'\n",
    "            # item = \"ch2_concat.nii\"\n",
    "            # item = 'functional_channel_' + item.split('ch')[1].split('_')[0] + '.nii'\n",
    "            # -> functional_channel_2.nii\n",
    "            # Bella's code\n",
    "            # item = 'TSeries-12172018-1322-003_channel_2_s0.nii'\n",
    "            # item = 'functional_' + item.split('_')[1] + '_' + item.split('_')[2]\n",
    "            # -> 'functional_channel_2'\n",
    "            # if '.nii' in item and folder_type == 'func':\n",
    "            #    # '_' is from channel numbers my tiff to nii adds\n",
    "            #    item = 'functional_' + item.split('_')[1] + '_' + item.split('_')[2]\n",
    "            # Rename anatomy file to anatomy_channel_x.nii\n",
    "            # Rename anatomy file to anatomy_channel_x.nii\n",
    "            if '.nii' in item and folder_type == 'anat':\n",
    "                item = 'anatomy_' + item.split('_')[1] + '_' + item.split('_')[2]\n",
    "            # Special copy for photodiode since it goes in visual folder\n",
    "            if '.csv' in item:\n",
    "                item = 'photodiode.csv'\n",
    "                try:\n",
    "                    visual_folder = os.path.join(os.path.split(destination)[0], 'visual')\n",
    "                    os.mkdir(visual_folder)\n",
    "                except:\n",
    "                    pass\n",
    "                target_item = os.path.join(os.path.split(destination)[0], 'visual', item)\n",
    "                copyfile(source_item, target_item)\n",
    "                continue\n",
    "            # Special copy for visprotocol metadata since it goes in visual folder\n",
    "            if '.hdf5' in item:\n",
    "                try:\n",
    "                    visual_folder = os.path.join(os.path.split(destination)[0], 'visual')\n",
    "                    os.mkdir(visual_folder)\n",
    "                except:\n",
    "                    pass\n",
    "                target_item = os.path.join(os.path.split(destination)[0], 'visual', item)\n",
    "                copyfile(source_item, target_item)\n",
    "                continue\n",
    "            # Rename to anatomy.xml if appropriate\n",
    "            if '.xml' in item and folder_type == 'anat' and 'Voltage' not in item:\n",
    "                item = 'anatomy.xml'\n",
    "            # Rename to functional.xml if appropriate, copy immediately, then make scan.json\n",
    "            if '.xml' in item and folder_type == 'func' and 'Voltage' not in item:\n",
    "                item = 'functional.xml'\n",
    "                target_item = os.path.join(destination, item)\n",
    "                copy_file(source_item, target_item, printlog)\n",
    "                # Create json file\n",
    "                create_imaging_json(target_item, printlog)\n",
    "                continue\n",
    "            if '.xml' in item and 'VoltageOutput' in item:\n",
    "                item = 'voltage_output.xml'\n",
    "            # Special copy for expt.json\n",
    "            if 'expt.json' in item:\n",
    "                target_item = os.path.join(os.path.split(destination)[0], item)\n",
    "                copyfile(source_item, target_item)\n",
    "                continue\n",
    "\n",
    "show_path(source)"
   ]
  },
  {
   "cell_type": "code",
   "execution_count": 12,
   "id": "b77b1d69-dd4a-453c-bfed-45b5bd3304fb",
   "metadata": {},
   "outputs": [
    {
     "data": {
      "text/plain": [
       "[]"
      ]
     },
     "execution_count": 12,
     "metadata": {},
     "output_type": "execute_result"
    }
   ],
   "source": [
    "filenames"
   ]
  },
  {
   "cell_type": "code",
   "execution_count": 92,
   "id": "3d534acf-9251-43cd-9979-21d574138670",
   "metadata": {},
   "outputs": [
    {
     "name": "stdout",
     "output_type": "stream",
     "text": [
      "functional_channel_2.nii\n"
     ]
    }
   ],
   "source": [
    "# Bella's files\n",
    "\"\"\"\n",
    "item = 'TSeries-12172018-1322-003_channel_2_s0.nii'\n",
    "item = 'functional_' + item.split('_')[1] + '_' + item.split('_')[2]\n",
    "-> 'functional_channel_2'\n",
    "\"\"\"\n",
    "# Stitched files\n",
    "item = \"ch2_concat.nii\"\n",
    "item = 'functional_channel_' + item.split('ch')[1].split('_')[0] + '.nii'\n",
    "print(item)"
   ]
  },
  {
   "cell_type": "code",
   "execution_count": null,
   "id": "84fe7fdf",
   "metadata": {},
   "outputs": [],
   "source": [
    "#copy_bruker_data(source_expt_folder, imaging_destination, 'func', printlog)"
   ]
  },
  {
   "cell_type": "code",
   "execution_count": null,
   "id": "338f3d89-0131-4250-9a1d-b7bf2f166746",
   "metadata": {},
   "outputs": [],
   "source": [
    "item = "
   ]
  },
  {
   "cell_type": "code",
   "execution_count": 74,
   "id": "7168c924-809a-49ea-9579-9534435ad931",
   "metadata": {},
   "outputs": [
    {
     "data": {
      "text/plain": [
       "'functional_channel_2'"
      ]
     },
     "execution_count": 74,
     "metadata": {},
     "output_type": "execute_result"
    }
   ],
   "source": [
    "item"
   ]
  },
  {
   "cell_type": "code",
   "execution_count": null,
   "id": "6e206ef6",
   "metadata": {},
   "outputs": [],
   "source": [
    "# def copy_bruker_data(source, destination, folder_type, printlog): \n",
    "# Do not update destination - download all files into that destination\n",
    "for item in os.listdir(source):\n",
    "    # Create full path to item\n",
    "    source_item = os.path.join(source, item)\n",
    "\n",
    "    # Check if item is a directory\n",
    "    if os.path.isdir(source_item):\n",
    "        # Do not update destination - download all files into that destination\n",
    "        copy_bruker_data(source_item, destination, folder_type, printlog)\n",
    "\n",
    "    # If the item is a file\n",
    "    else:\n",
    "        ### Change file names and filter various files\n",
    "        # Don't copy these files\n",
    "        if 'SingleImage' in item:\n",
    "            continue\n",
    "        # Rename functional file to functional_channel_x.nii\n",
    "        if 'concat.nii' in item and folder_type == 'func':\n",
    "            item = 'functional_channel_' + item.split('ch')[1].split('_')[0] + '.nii'\n",
    "        # item = \"ch2_concat.nii\"\n",
    "        # item = 'functional_channel_' + item.split('ch')[1].split('_')[0] + '.nii'\n",
    "        # -> functional_channel_2.nii\n",
    "        # Bella's code\n",
    "        # item = 'TSeries-12172018-1322-003_channel_2_s0.nii'\n",
    "        # item = 'functional_' + item.split('_')[1] + '_' + item.split('_')[2]\n",
    "        # -> 'functional_channel_2'\n",
    "        #if '.nii' in item and folder_type == 'func':\n",
    "        #    # '_' is from channel numbers my tiff to nii adds\n",
    "        #    item = 'functional_' + item.split('_')[1] + '_' + item.split('_')[2]\n",
    "        # Rename anatomy file to anatomy_channel_x.nii\n",
    "        if '.nii' in item and folder_type == 'anat':\n",
    "            item = 'anatomy_' + item.split('_')[1] + '_' + item.split('_')[2]\n",
    "        # Special copy for photodiode since it goes in visual folder\n",
    "        if '.csv' in item:\n",
    "            item = 'photodiode.csv'\n",
    "            try:\n",
    "                visual_folder = os.path.join(os.path.split(destination)[0], 'visual')\n",
    "                os.mkdir(visual_folder)\n",
    "            except:\n",
    "                pass\n",
    "            target_item = os.path.join(os.path.split(destination)[0], 'visual', item)\n",
    "            copyfile(source_item, target_item)\n",
    "            continue\n",
    "        # Special copy for visprotocol metadata since it goes in visual folder\n",
    "        if '.hdf5' in item:\n",
    "            try:\n",
    "                visual_folder = os.path.join(os.path.split(destination)[0], 'visual')\n",
    "                os.mkdir(visual_folder)\n",
    "            except:\n",
    "                pass\n",
    "            target_item = os.path.join(os.path.split(destination)[0], 'visual', item)\n",
    "            copyfile(source_item, target_item)\n",
    "            continue\n",
    "        # Rename to anatomy.xml if appropriate\n",
    "        if '.xml' in item and folder_type == 'anat' and 'Voltage' not in item:\n",
    "            item = 'anatomy.xml'\n",
    "        # Rename to functional.xml if appropriate, copy immediately, then make scan.json\n",
    "        if '.xml' in item and folder_type == 'func' and 'Voltage' not in item:\n",
    "            item = 'functional.xml'\n",
    "            target_item = os.path.join(destination, item)\n",
    "            copy_file(source_item, target_item, printlog)\n",
    "            # Create json file\n",
    "            create_imaging_json(target_item, printlog)\n",
    "            continue\n",
    "        if '.xml' in item and 'VoltageOutput' in item:\n",
    "            item = 'voltage_output.xml'\n",
    "        # Special copy for expt.json\n",
    "        if 'expt.json' in item:\n",
    "            target_item = os.path.join(os.path.split(destination)[0], item)\n",
    "            copyfile(source_item, target_item)\n",
    "            continue\n",
    "\n",
    "        # Actually copy the file\n",
    "        target_item = os.path.join(destination, item)\n",
    "        copy_file(source_item, target_item, printlog)"
   ]
  },
  {
   "cell_type": "code",
   "execution_count": null,
   "id": "a9c2992e-de98-44c0-b7c3-32907fff1249",
   "metadata": {},
   "outputs": [],
   "source": [
    "#printlog('Transfering file {}'.format(target))\n",
    "to_print = ('/').join(target.split('/')[-4:])\n",
    "width = 120\n",
    "printlog(f'Transfering file{to_print:.>{width-16}}')\n",
    "##sys.stdout.flush()\n",
    "copyfile(source, target)"
   ]
  },
  {
   "cell_type": "code",
   "execution_count": 4,
   "id": "008fcdb2",
   "metadata": {},
   "outputs": [
    {
     "name": "stdout",
     "output_type": "stream",
     "text": [
      "ch1 file:  TSeries-12172018-1322-003_channel_1_s0.nii\n",
      "ch1 file:  TSeries-12172018-1322-003_channel_1_s500.nii\n",
      "ch1 file:  TSeries-12172018-1322-003_channel_1_s1000.nii\n",
      "ch1 file:  TSeries-12172018-1322-003_channel_1_s1500.nii\n",
      "ch1 file:  TSeries-12172018-1322-003_channel_1_s2000.nii\n",
      "ch1 file:  TSeries-12172018-1322-003_channel_1_s2500.nii\n",
      "ch1 file:  TSeries-12172018-1322-003_channel_1_s3000.nii\n"
     ]
    }
   ],
   "source": [
    "                        # iterate through sorted list and append files\n",
    "                        for current_file in sorted_channel_1_list:\n",
    "                            print('ch1 file: ', current_file[0])"
   ]
  },
  {
   "cell_type": "code",
   "execution_count": 5,
   "id": "62a896a7",
   "metadata": {},
   "outputs": [
    {
     "ename": "ExpiredDeprecationError",
     "evalue": "get_data() is deprecated in favor of get_fdata(), which has a more predictable return type. To obtain get_data() behavior going forward, use numpy.asanyarray(img.dataobj).\n\n* deprecated from version: 3.0\n* Raises <class 'nibabel.deprecator.ExpiredDeprecationError'> as of version: 5.0",
     "output_type": "error",
     "traceback": [
      "\u001b[0;31m---------------------------------------------------------------------------\u001b[0m",
      "\u001b[0;31mExpiredDeprecationError\u001b[0m                   Traceback (most recent call last)",
      "\u001b[0;32m/tmp/ipykernel_30206/3029938080.py\u001b[0m in \u001b[0;36m<module>\u001b[0;34m\u001b[0m\n\u001b[0;32m----> 1\u001b[0;31m \u001b[0mbrain_ch1\u001b[0m \u001b[0;34m=\u001b[0m \u001b[0mnp\u001b[0m\u001b[0;34m.\u001b[0m\u001b[0masarray\u001b[0m\u001b[0;34m(\u001b[0m\u001b[0mnib\u001b[0m\u001b[0;34m.\u001b[0m\u001b[0mload\u001b[0m\u001b[0;34m(\u001b[0m\u001b[0mPath\u001b[0m\u001b[0;34m(\u001b[0m\u001b[0mtseries_folder\u001b[0m\u001b[0;34m,\u001b[0m \u001b[0mcurrent_file\u001b[0m\u001b[0;34m[\u001b[0m\u001b[0;36m0\u001b[0m\u001b[0;34m]\u001b[0m\u001b[0;34m)\u001b[0m\u001b[0;34m)\u001b[0m\u001b[0;34m.\u001b[0m\u001b[0mget_data\u001b[0m\u001b[0;34m(\u001b[0m\u001b[0;34m)\u001b[0m\u001b[0;34m,\u001b[0m \u001b[0mdtype\u001b[0m\u001b[0;34m=\u001b[0m\u001b[0;34m'uint16'\u001b[0m\u001b[0;34m)\u001b[0m\u001b[0;34m\u001b[0m\u001b[0;34m\u001b[0m\u001b[0m\n\u001b[0m",
      "\u001b[0;32m~/.local/lib/python3.9/site-packages/nibabel/deprecator.py\u001b[0m in \u001b[0;36mdeprecated_func\u001b[0;34m(*args, **kwargs)\u001b[0m\n\u001b[1;32m    206\u001b[0m             \u001b[0;32mdef\u001b[0m \u001b[0mdeprecated_func\u001b[0m\u001b[0;34m(\u001b[0m\u001b[0;34m*\u001b[0m\u001b[0margs\u001b[0m\u001b[0;34m:\u001b[0m \u001b[0mP\u001b[0m\u001b[0;34m.\u001b[0m\u001b[0margs\u001b[0m\u001b[0;34m,\u001b[0m \u001b[0;34m**\u001b[0m\u001b[0mkwargs\u001b[0m\u001b[0;34m:\u001b[0m \u001b[0mP\u001b[0m\u001b[0;34m.\u001b[0m\u001b[0mkwargs\u001b[0m\u001b[0;34m)\u001b[0m \u001b[0;34m->\u001b[0m \u001b[0mT\u001b[0m\u001b[0;34m:\u001b[0m\u001b[0;34m\u001b[0m\u001b[0;34m\u001b[0m\u001b[0m\n\u001b[1;32m    207\u001b[0m                 \u001b[0;32mif\u001b[0m \u001b[0muntil\u001b[0m \u001b[0;32mand\u001b[0m \u001b[0mself\u001b[0m\u001b[0;34m.\u001b[0m\u001b[0mis_bad_version\u001b[0m\u001b[0;34m(\u001b[0m\u001b[0muntil\u001b[0m\u001b[0;34m)\u001b[0m\u001b[0;34m:\u001b[0m\u001b[0;34m\u001b[0m\u001b[0;34m\u001b[0m\u001b[0m\n\u001b[0;32m--> 208\u001b[0;31m                     \u001b[0;32mraise\u001b[0m \u001b[0mexception\u001b[0m\u001b[0;34m(\u001b[0m\u001b[0mmessage\u001b[0m\u001b[0;34m)\u001b[0m\u001b[0;34m\u001b[0m\u001b[0;34m\u001b[0m\u001b[0m\n\u001b[0m\u001b[1;32m    209\u001b[0m                 \u001b[0mwarnings\u001b[0m\u001b[0;34m.\u001b[0m\u001b[0mwarn\u001b[0m\u001b[0;34m(\u001b[0m\u001b[0mmessage\u001b[0m\u001b[0;34m,\u001b[0m \u001b[0mwarning\u001b[0m\u001b[0;34m,\u001b[0m \u001b[0mstacklevel\u001b[0m\u001b[0;34m=\u001b[0m\u001b[0;36m2\u001b[0m\u001b[0;34m)\u001b[0m\u001b[0;34m\u001b[0m\u001b[0;34m\u001b[0m\u001b[0m\n\u001b[1;32m    210\u001b[0m                 \u001b[0;32mreturn\u001b[0m \u001b[0mfunc\u001b[0m\u001b[0;34m(\u001b[0m\u001b[0;34m*\u001b[0m\u001b[0margs\u001b[0m\u001b[0;34m,\u001b[0m \u001b[0;34m**\u001b[0m\u001b[0mkwargs\u001b[0m\u001b[0;34m)\u001b[0m\u001b[0;34m\u001b[0m\u001b[0;34m\u001b[0m\u001b[0m\n",
      "\u001b[0;31mExpiredDeprecationError\u001b[0m: get_data() is deprecated in favor of get_fdata(), which has a more predictable return type. To obtain get_data() behavior going forward, use numpy.asanyarray(img.dataobj).\n\n* deprecated from version: 3.0\n* Raises <class 'nibabel.deprecator.ExpiredDeprecationError'> as of version: 5.0"
     ]
    }
   ],
   "source": [
    "brain_ch1 = np.asarray(nib.load(Path(tseries_folder, current_file[0])).get_data(), dtype='uint16')"
   ]
  },
  {
   "cell_type": "code",
   "execution_count": 6,
   "id": "5fa50524",
   "metadata": {},
   "outputs": [
    {
     "data": {
      "text/plain": [
       "(256, 128, 49, 384)"
      ]
     },
     "execution_count": 6,
     "metadata": {},
     "output_type": "execute_result"
    }
   ],
   "source": [
    "nib.load(Path(tseries_folder, current_file[0])).get_fdata().shape"
   ]
  },
  {
   "cell_type": "code",
   "execution_count": 7,
   "id": "17a69d67",
   "metadata": {},
   "outputs": [
    {
     "data": {
      "text/plain": [
       "<nibabel.nifti1.Nifti1Image at 0x7fc9043d9ca0>"
      ]
     },
     "execution_count": 7,
     "metadata": {},
     "output_type": "execute_result"
    }
   ],
   "source": [
    "img = nib.load(Path(tseries_folder, current_file[0]))\n",
    "img"
   ]
  },
  {
   "cell_type": "code",
   "execution_count": 9,
   "id": "25d9ecdf",
   "metadata": {},
   "outputs": [
    {
     "data": {
      "text/plain": [
       "<nibabel.nifti1.Nifti1Header at 0x7fc9043d9280>"
      ]
     },
     "execution_count": 9,
     "metadata": {},
     "output_type": "execute_result"
    }
   ],
   "source": [
    "img.header"
   ]
  },
  {
   "cell_type": "code",
   "execution_count": 14,
   "id": "9f762879",
   "metadata": {},
   "outputs": [],
   "source": [
    "image_data = img.get_fdata().astype(np.uint16)"
   ]
  },
  {
   "cell_type": "code",
   "execution_count": 16,
   "id": "c4b96979",
   "metadata": {},
   "outputs": [
    {
     "data": {
      "text/plain": [
       "memmap([[[[  30,   19,   26, ...,   26,   17,   31],\n",
       "          [  37,   12,   28, ...,   54,   40,   25],\n",
       "          [  32,   27,   10, ...,   18,   36,   21],\n",
       "          ...,\n",
       "          [  48,   21,   42, ...,   25,   43,   31],\n",
       "          [  32,   22,   45, ...,   37,   28,   30],\n",
       "          [  19,   38,   33, ...,   45,   48,   33]],\n",
       "\n",
       "         [[   9,   39,   21, ...,   20,   17,   28],\n",
       "          [  12,    8,   31, ...,   17,   38,   33],\n",
       "          [  25,    8,   31, ...,   21,   22,   54],\n",
       "          ...,\n",
       "          [  42,   37,   24, ...,   16,    3,   10],\n",
       "          [  30,   28,  867, ...,   35,   13,   23],\n",
       "          [  32,   14,   23, ...,    2,   24,  110]],\n",
       "\n",
       "         [[  16,    5,   26, ...,   14,   39,   37],\n",
       "          [  33,   22,   35, ...,   32,   30,   31],\n",
       "          [  31,   21,   16, ...,   36,   26,   39],\n",
       "          ...,\n",
       "          [  35,   34,   25, ...,    6,   12,   32],\n",
       "          [  37,   27,   43, ...,   37,   35,   42],\n",
       "          [  31,   27,   60, ...,   27,   37,   44]],\n",
       "\n",
       "         ...,\n",
       "\n",
       "         [[   1,   40,   32, ...,   11,   39,   22],\n",
       "          [  42,   47,   24, ...,   21,   12,   17],\n",
       "          [  26,    8,   23, ...,   27,   37,   65],\n",
       "          ...,\n",
       "          [  37,    0,   27, ...,   19,   13,   11],\n",
       "          [  25,   17,    0, ...,   24,   19,   17],\n",
       "          [  46,   14,   18, ...,   19,   42,   25]],\n",
       "\n",
       "         [[  58,    7,   21, ...,   18,   32,   48],\n",
       "          [  27,    4,   22, ...,   30,   29,  633],\n",
       "          [  34,   16,   15, ...,   22,   31,   23],\n",
       "          ...,\n",
       "          [  40,   24,    8, ...,   12,   14,   57],\n",
       "          [  26,   26,    1, ...,   25,   28,   28],\n",
       "          [  37,   39,   22, ...,   13,   48,   39]],\n",
       "\n",
       "         [[  16,   37,   28, ...,   35,   28,    5],\n",
       "          [  21,   41,   38, ...,   23,   27,   13],\n",
       "          [  40,   49,   49, ...,   11,   24,   50],\n",
       "          ...,\n",
       "          [  20,   12,   14, ...,   33,    9,    0],\n",
       "          [  22,    5,   26, ...,   25,   19,   15],\n",
       "          [  25,   10,   10, ...,   23,   15,   25]]],\n",
       "\n",
       "\n",
       "        [[[  16,    6,   21, ...,   31,   21,   35],\n",
       "          [  27,   15,   20, ...,   84,   17,   24],\n",
       "          [  25,   28,   26, ...,   39,   27,   23],\n",
       "          ...,\n",
       "          [  51,   26,   26, ...,   27,   80,   25],\n",
       "          [  29,   40,   16, ...,   16,   27,   36],\n",
       "          [  29,   27,   32, ...,    4,   28,   40]],\n",
       "\n",
       "         [[  28,   35,   33, ...,   31,   83,   41],\n",
       "          [  18,   42,   35, ...,   20,   44,   26],\n",
       "          [  23,   15,   32, ...,   32,   27,   45],\n",
       "          ...,\n",
       "          [  26,   26,   14, ...,   20,    9,   26],\n",
       "          [  43,   47,   26, ...,    7,   21,   51],\n",
       "          [  63,   24,   26, ...,    9,   29,   33]],\n",
       "\n",
       "         [[  12,   14,   30, ...,   27,   13,   30],\n",
       "          [  28,   39,   30, ...,   11,   25,   56],\n",
       "          [ 134,   35,   18, ...,   20,   33,   28],\n",
       "          ...,\n",
       "          [  47,   13,   21, ...,   35,    6,   62],\n",
       "          [  43,   25,   19, ...,   16,   26,   16],\n",
       "          [  47,   26,   16, ...,    9,   26,   25]],\n",
       "\n",
       "         ...,\n",
       "\n",
       "         [[ 426,   15,   24, ...,   15,   11,   39],\n",
       "          [ 743,   22,   25, ...,   15,   25,   33],\n",
       "          [  26,   25,   41, ...,   32,   34,   42],\n",
       "          ...,\n",
       "          [  33,   13,   27, ...,   13,   24,   23],\n",
       "          [  31,   14,    1, ...,   44,   23,   29],\n",
       "          [  35,   26,   18, ...,   11,   29,   25]],\n",
       "\n",
       "         [[  13,   59,   28, ...,   52,   19,   27],\n",
       "          [  13,   25,   35, ...,   22,   43,   37],\n",
       "          [  27,   26,   20, ...,   33,   43,   20],\n",
       "          ...,\n",
       "          [  34,   13,   14, ...,   37,   33,   24],\n",
       "          [  38,   27,   23, ...,   41,   24,   24],\n",
       "          [  36,   27,   14, ...,   10,   25,   35]],\n",
       "\n",
       "         [[   6,   38,   38, ...,   72,   15,   34],\n",
       "          [  12,   11,   59, ...,    4,    9,   29],\n",
       "          [   9,   18,   31, ...,   32,   20,   41],\n",
       "          ...,\n",
       "          [  20,    6,   22, ...,   29,    3,    7],\n",
       "          [  27,   14,   12, ...,   23,   11,   24],\n",
       "          [  46,   22,   16, ...,   28,   16,   34]]],\n",
       "\n",
       "\n",
       "        [[[  14,   11,   23, ...,   19,   25,   23],\n",
       "          [  37,   15,   28, ...,   20,   30,   60],\n",
       "          [  33,    8,   24, ...,   25,   22,   25],\n",
       "          ...,\n",
       "          [  30,   19,   15, ...,   17,  121,   15],\n",
       "          [ 125,   31,   21, ...,   11,   25,   33],\n",
       "          [  31,   27,   25, ...,   14,   41,   23]],\n",
       "\n",
       "         [[  36,    6,   24, ...,   14,   17,   34],\n",
       "          [  24,    0,   26, ...,   31,   43,   51],\n",
       "          [  20,   20,   16, ...,   29,   41,   41],\n",
       "          ...,\n",
       "          [  32,   42,   19, ...,   19,   23,   25],\n",
       "          [  48,   29,   16, ...,    8,   22,   35],\n",
       "          [  55,   35,   22, ...,   25,   35,   41]],\n",
       "\n",
       "         [[  13,   16,   27, ...,    5,   23,   29],\n",
       "          [  22,   36,   23, ...,   15,   26,   18],\n",
       "          [ 252,    7,   36, ...,   29,   28,   44],\n",
       "          ...,\n",
       "          [  40,    7,   20, ...,   17,   26,   43],\n",
       "          [  40,  105,   14, ...,   18,   33,   22],\n",
       "          [  34,   29,   25, ...,   22,   30,   32]],\n",
       "\n",
       "         ...,\n",
       "\n",
       "         [[  24,   14,   41, ...,   42,   27,   32],\n",
       "          [ 172,  800,   33, ...,   17,   39,   39],\n",
       "          [  33,   25,   29, ...,   27,   37,   70],\n",
       "          ...,\n",
       "          [  46,   18,    9, ...,   16,   24,   24],\n",
       "          [  41,   28,   36, ...,   22,   32,   27],\n",
       "          [  41,   36,   45, ...,   16,   26,   51]],\n",
       "\n",
       "         [[  20,   27,   41, ...,    4,   23,   54],\n",
       "          [  14,   23,   24, ...,   21,   43,   29],\n",
       "          [  21,   25,   46, ...,   20,   13,   56],\n",
       "          ...,\n",
       "          [  18,    5,   24, ...,   18,   20,   10],\n",
       "          [  29,   13,   26, ...,   55,   17,   10],\n",
       "          [  39,   19,   16, ...,   15,   18,   35]],\n",
       "\n",
       "         [[  13,   30,   38, ...,    7,   20,   59],\n",
       "          [  39,   34,   36, ...,   37,   17,   37],\n",
       "          [  68,   15,   12, ...,   14,   28,   34],\n",
       "          ...,\n",
       "          [  31,   14,   13, ...,   24,    1,    0],\n",
       "          [  29,   18,   10, ...,   21,   10,   28],\n",
       "          [  38,    8,   17, ...,   27,   29,   26]]],\n",
       "\n",
       "\n",
       "        ...,\n",
       "\n",
       "\n",
       "        [[[  33,   36,   23, ..., 1221,   26,  456],\n",
       "          [  33,   32,   37, ...,  131,    8,   13],\n",
       "          [  17,   41,  299, ...,   18,  253,   32],\n",
       "          ...,\n",
       "          [  28,   25,   30, ...,   43,   32,   28],\n",
       "          [  35,   22,   30, ...,   27,   31,    8],\n",
       "          [  20,    0,   18, ...,   35,   31,   11]],\n",
       "\n",
       "         [[  42,   29,  455, ...,   23,  375,   19],\n",
       "          [ 392,   69,   42, ...,   30,   32,   39],\n",
       "          [ 796,  278,   84, ...,  117,  283,   29],\n",
       "          ...,\n",
       "          [ 858,   27,   41, ...,   29,   26,   41],\n",
       "          [  14,   17,   46, ...,   44,   22,   28],\n",
       "          [  31,   25,   28, ...,   29,   16,    6]],\n",
       "\n",
       "         [[  26,   37,   23, ...,   46,   46,   31],\n",
       "          [ 356,   48,   26, ...,  420,  379,   57],\n",
       "          [1282,   33,  211, ...,   37,   19,  605],\n",
       "          ...,\n",
       "          [  40,   37,   35, ...,   26,   28,   58],\n",
       "          [   0,   39,   26, ...,   44,   28,   25],\n",
       "          [  14,   19,   24, ...,   47,   41,   34]],\n",
       "\n",
       "         ...,\n",
       "\n",
       "         [[  37,   37,   21, ...,   38,   20,   10],\n",
       "          [  37,   49,   29, ...,   31,   33,   11],\n",
       "          [   3,   59,   30, ...,   17,   10,   28],\n",
       "          ...,\n",
       "          [  17,   25,   36, ...,   23,   27,   19],\n",
       "          [  26,   30,   46, ...,   34,   45,   18],\n",
       "          [   5,   36,   33, ...,   37,   16,   21]],\n",
       "\n",
       "         [[  32,   25,   37, ...,   42,   37,   30],\n",
       "          [  29,   38,   34, ...,   46,   42,   54],\n",
       "          [  23,   27,   22, ...,   16,   31,   27],\n",
       "          ...,\n",
       "          [  59,   26,   38, ...,   39,   35,   26],\n",
       "          [  22,   18,   26, ...,   32,   26,   25],\n",
       "          [  15,   49,   26, ...,   53,   51,   14]],\n",
       "\n",
       "         [[  43,   30,    9, ...,   45,   32,   37],\n",
       "          [  45,   36,    6, ...,   29,   32,   28],\n",
       "          [  25,   37,   28, ...,   33,   31,   12],\n",
       "          ...,\n",
       "          [  43,   40,   23, ...,   34,   32,   42],\n",
       "          [  22,   35,   39, ...,   25,   32,   32],\n",
       "          [  28,   44,   31, ...,   40,   18,   24]]],\n",
       "\n",
       "\n",
       "        [[[  37,   29,    5, ...,   33,   37,   40],\n",
       "          [  59,   52,   37, ...,   19,    9,   14],\n",
       "          [  20,  470,   28, ...,   18,  324,  123],\n",
       "          ...,\n",
       "          [  40,   38,   43, ...,   43,   32,   42],\n",
       "          [  15,   19,   40, ...,   48,   46,   16],\n",
       "          [  34,   25,   24, ...,   30,   24,    9]],\n",
       "\n",
       "         [[  11,   50,   28, ...,   31,   67,  738],\n",
       "          [ 428,   29,  139, ...,  537,   34,   15],\n",
       "          [ 267,  506,  482, ...,   13,  499,   24],\n",
       "          ...,\n",
       "          [  16,   31,   31, ...,   25,   28,   21],\n",
       "          [   5,   43,  104, ...,   34,   39,   17],\n",
       "          [   0,   14,   42, ...,   74,   18,   17]],\n",
       "\n",
       "         [[  43,   33,   16, ...,   28,   32,  437],\n",
       "          [ 147,  290,   23, ...,   76,   19,   35],\n",
       "          [ 260,   44,   25, ...,   27,   21,   22],\n",
       "          ...,\n",
       "          [  33,   39,   43, ...,   34,   38,   22],\n",
       "          [  38,   33,   36, ...,   34,   46,   43],\n",
       "          [  12,   23,   13, ...,   32,   59,   23]],\n",
       "\n",
       "         ...,\n",
       "\n",
       "         [[  40,   39,   24, ...,   52,   27,    7],\n",
       "          [  26,   44,   23, ...,   33,   26,    0],\n",
       "          [  21,   96,   21, ...,   17,   14,   13],\n",
       "          ...,\n",
       "          [  32,   19,   28, ...,   39,   28,   21],\n",
       "          [  28,   48,   29, ...,   24,   33,    5],\n",
       "          [  25,   15,   28, ...,   33,   15,   39]],\n",
       "\n",
       "         [[  44,   37,   12, ...,   31,   22,   26],\n",
       "          [  50,   22,   92, ...,   16,   26,   52],\n",
       "          [  21,   44,   40, ...,   33,   30,    0],\n",
       "          ...,\n",
       "          [  12,   46,   32, ...,   24,   70,   32],\n",
       "          [  18,   25,   41, ...,   28,   24,   23],\n",
       "          [   4,   41,   25, ...,   39,   24,   16]],\n",
       "\n",
       "         [[  34,   27,   18, ...,   39,   36,   13],\n",
       "          [  22,   28,   18, ...,   43,   29,   33],\n",
       "          [  28,   39,   28, ...,   57,   17,   24],\n",
       "          ...,\n",
       "          [  19,   37,   23, ...,   33,   38,   32],\n",
       "          [   8,   66,   57, ...,   38,   39,   24],\n",
       "          [  19,   31,   54, ...,   33,   23,   12]]],\n",
       "\n",
       "\n",
       "        [[[ 116,   34,   20, ...,   40,   24,  110],\n",
       "          [  33,   36,   43, ...,   23,   17,    0],\n",
       "          [  34,   53,   36, ...,   19,   13,  467],\n",
       "          ...,\n",
       "          [  10,   29,   47, ...,   28,   29,   41],\n",
       "          [   0,   13,   24, ...,   55,   30,   13],\n",
       "          [   0,   25,   19, ...,   42,   22,   14]],\n",
       "\n",
       "         [[  26,  497,   57, ...,   46,   72,   23],\n",
       "          [  76,  300,   23, ...,  420,   13,   16],\n",
       "          [  18,   37,  329, ...,   12,   37,   37],\n",
       "          ...,\n",
       "          [  18,   34,   36, ...,   47,   25,   37],\n",
       "          [   7,   14,   55, ...,   28,   24,    3],\n",
       "          [  22,   29,    6, ...,   27,   16,   13]],\n",
       "\n",
       "         [[ 408,   24,   16, ...,   52,   29,   36],\n",
       "          [1194,   91,   30, ...,  607,  523,   91],\n",
       "          [ 548,   34,    9, ...,   29,   32,  147],\n",
       "          ...,\n",
       "          [ 100,   35,   49, ...,   19,   28,   33],\n",
       "          [ 510,   33,   16, ...,   19,   38,   36],\n",
       "          [  14,   23,   32, ...,   34,   68,   32]],\n",
       "\n",
       "         ...,\n",
       "\n",
       "         [[  21,   29,   14, ...,   26,   18,    5],\n",
       "          [  28,   25,   32, ...,   16,   20,   27],\n",
       "          [  17,   34,   33, ...,   37,   20,   15],\n",
       "          ...,\n",
       "          [  11,   35,   38, ...,   30,   31,   26],\n",
       "          [  52,   23,   40, ...,   37,   16,   10],\n",
       "          [  19,   15,   26, ...,   33,   20,   34]],\n",
       "\n",
       "         [[  26,   16,   22, ...,   41,   39,   38],\n",
       "          [  53,   25, 1043, ...,   37,   29,   24],\n",
       "          [  42,   20,   25, ...,   43,   23,   15],\n",
       "          ...,\n",
       "          [  48,   46,   32, ...,   24,   35,   35],\n",
       "          [  15,   46,   16, ...,   26,   24,   17],\n",
       "          [  14,   37,   39, ...,   35,   22,   20]],\n",
       "\n",
       "         [[  24,   19,    6, ...,   43,   33,   21],\n",
       "          [  37,   37,   30, ...,   20,   16,   12],\n",
       "          [  25,   40,   31, ...,   50,   15,   25],\n",
       "          ...,\n",
       "          [  28,   53,   64, ...,   58,   36,   37],\n",
       "          [   0,   24,   29, ...,   43,   21,   22],\n",
       "          [  35,   44,   39, ...,   34,   19,   24]]]], dtype=uint16)"
      ]
     },
     "execution_count": 16,
     "metadata": {},
     "output_type": "execute_result"
    }
   ],
   "source": [
    "image_data"
   ]
  },
  {
   "cell_type": "code",
   "execution_count": null,
   "id": "c6241ee7",
   "metadata": {},
   "outputs": [],
   "source": [
    "np.asanyarray(nib.load(Path(tseries_folder, current_file[0])).get_fdata(), dtype='uint16')"
   ]
  },
  {
   "cell_type": "code",
   "execution_count": null,
   "id": "3b9b25ff",
   "metadata": {},
   "outputs": [],
   "source": []
  }
 ],
 "metadata": {
  "kernelspec": {
   "display_name": "Python 3 (ipykernel)",
   "language": "python",
   "name": "python3"
  },
  "language_info": {
   "codemirror_mode": {
    "name": "ipython",
    "version": 3
   },
   "file_extension": ".py",
   "mimetype": "text/x-python",
   "name": "python",
   "nbconvert_exporter": "python",
   "pygments_lexer": "ipython3",
   "version": "3.10.9"
  }
 },
 "nbformat": 4,
 "nbformat_minor": 5
}
